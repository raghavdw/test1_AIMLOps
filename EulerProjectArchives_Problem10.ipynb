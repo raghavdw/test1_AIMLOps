{
  "nbformat": 4,
  "nbformat_minor": 0,
  "metadata": {
    "colab": {
      "provenance": [],
      "authorship_tag": "ABX9TyMewv/Yjwn9hO2Fc1RsMzsr",
      "include_colab_link": true
    },
    "kernelspec": {
      "name": "python3",
      "display_name": "Python 3"
    },
    "language_info": {
      "name": "python"
    }
  },
  "cells": [
    {
      "cell_type": "markdown",
      "metadata": {
        "id": "view-in-github",
        "colab_type": "text"
      },
      "source": [
        "<a href=\"https://colab.research.google.com/github/raghavdw/test1_AIMLOps/blob/main/EulerProjectArchives_Problem10.ipynb\" target=\"_parent\"><img src=\"https://colab.research.google.com/assets/colab-badge.svg\" alt=\"Open In Colab\"/></a>"
      ]
    },
    {
      "cell_type": "markdown",
      "source": [
        "# Euler Problem 10\n",
        "\n",
        "https://projecteuler.net/problem=10\n",
        "\n",
        "The sum of prime below 10 is 2 + 3 + 5 + 7 = 17\n",
        "\n",
        "Find the sum of all primes below two million"
      ],
      "metadata": {
        "id": "bYVbAIQNZHAg"
      }
    },
    {
      "cell_type": "markdown",
      "source": [
        " # Solution 10\n",
        "\n",
        " if $N$ = $a \\times b$\n",
        "\n",
        "and  \n",
        "\n",
        " $a > \\sqrt{N} \\Rightarrow b < \\sqrt{N}$  \n",
        "\n",
        " which means if a number has no factor (except 1) below $\\sqrt{N}$ it **is** a prime"
      ],
      "metadata": {
        "id": "JtoJf5NUZJbE"
      }
    },
    {
      "cell_type": "markdown",
      "source": [
        "##### Method 1"
      ],
      "metadata": {
        "id": "vU3gcEtmZbmG"
      }
    },
    {
      "cell_type": "code",
      "execution_count": null,
      "metadata": {
        "id": "Dz0KoTURZAJj"
      },
      "outputs": [],
      "source": [
        "def is_prime_number(n: int) -> bool:\n",
        "    if n <= 1:\n",
        "        return False\n",
        "    for i in range(2,int(n**0.5) + 1):\n",
        "        if n % i == 0:\n",
        "            return False\n",
        "    return True"
      ]
    },
    {
      "cell_type": "code",
      "source": [
        "def euler010_1(limit: int) -> int:\n",
        "    primes = [i for i in range(limit) if is_prime_number(i)]\n",
        "    return sum(primes)"
      ],
      "metadata": {
        "id": "qHa9wsujZee8"
      },
      "execution_count": null,
      "outputs": []
    },
    {
      "cell_type": "code",
      "source": [
        "%time\n",
        "euler010_1(2000000)"
      ],
      "metadata": {
        "colab": {
          "base_uri": "https://localhost:8080/"
        },
        "id": "_-y5cZgpZtHj",
        "outputId": "5b8e876e-e09b-4d9f-aa52-b67235ea559a"
      },
      "execution_count": null,
      "outputs": [
        {
          "output_type": "stream",
          "name": "stdout",
          "text": [
            "CPU times: user 4 µs, sys: 0 ns, total: 4 µs\n",
            "Wall time: 7.63 µs\n"
          ]
        },
        {
          "output_type": "execute_result",
          "data": {
            "text/plain": [
              "142913828922"
            ]
          },
          "metadata": {},
          "execution_count": 5
        }
      ]
    },
    {
      "cell_type": "code",
      "source": [],
      "metadata": {
        "id": "TaULBbubZvgL"
      },
      "execution_count": null,
      "outputs": []
    }
  ]
}